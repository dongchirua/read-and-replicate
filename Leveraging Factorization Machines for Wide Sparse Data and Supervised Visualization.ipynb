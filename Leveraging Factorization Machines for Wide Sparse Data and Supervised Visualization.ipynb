{
 "cells": [
  {
   "cell_type": "markdown",
   "metadata": {},
   "source": [
    "source http://srome.github.io/Leveraging-Factorization-Machines-for-Sparse-Data-and-Supervised-Visualization/"
   ]
  },
  {
   "cell_type": "code",
   "execution_count": 1,
   "metadata": {},
   "outputs": [],
   "source": [
    "%load_ext autotime"
   ]
  },
  {
   "cell_type": "markdown",
   "metadata": {},
   "source": [
    "# Load author's lib"
   ]
  },
  {
   "cell_type": "code",
   "execution_count": 2,
   "metadata": {},
   "outputs": [
    {
     "name": "stdout",
     "output_type": "stream",
     "text": [
      "time: 1.72 s\n"
     ]
    }
   ],
   "source": [
    "import itertools\n",
    "from collections import namedtuple\n",
    "\n",
    "import numpy as np\n",
    "import theano\n",
    "from theano import tensor as T\n",
    "from theano import sparse as S\n",
    "\n",
    "\n",
    "_Weights = namedtuple('_Weights', ['w0', 'w1', 'v'])\n",
    "\n",
    "\n",
    "class _FactorizationMachine(object):\n",
    "    \"\"\"Base class for factorization machines.\n",
    "\n",
    "    Warning: This class should not be used directly. Use derived classes\n",
    "    instead (FactorizationMachineClassifier and FactorizationMachineRegressor).\n",
    "    \"\"\"\n",
    "    def __init__(self,\n",
    "                 feature_count,\n",
    "                 classifier=False,\n",
    "                 k = 8,\n",
    "                 stdev = 0.1,\n",
    "                 sparse = False):\n",
    "        self.classifier = classifier\n",
    "        d = feature_count\n",
    "\n",
    "        # *** Symbolic variables ***\n",
    "        if sparse:\n",
    "            X = S.csr_matrix(name='inputs', dtype='float32')\n",
    "        else:\n",
    "            X = T.matrix()\n",
    "        y = T.vector()\n",
    "        beta_w1 = T.scalar()\n",
    "        beta_v = T.scalar()\n",
    "\n",
    "        # *** Model parameters ***\n",
    "        # bias term (intercept)\n",
    "        w0_init = np.zeros(1)\n",
    "        self.w0 = theano.shared(w0_init, allow_downcast=True)\n",
    "        # first order coefficients\n",
    "        w1_init = np.zeros(d)\n",
    "        self.w1 = theano.shared(w1_init, allow_downcast=True)\n",
    "        # interaction factors\n",
    "        v_init = stdev * np.random.randn(k, d)\n",
    "        self.v = theano.shared(v_init, allow_downcast=True)\n",
    "\n",
    "        # *** The Model ***\n",
    "        # The formula for pairwise interactions is from the bottom left\n",
    "        # of page 997 of Rendle 2010, \"Factorization Machines.\"\n",
    "        # This version scales linearly in k and d, as opposed to O(d^2).\n",
    "        if sparse:\n",
    "            interactions = 0.5 * T.sum((S.dot(X, T.transpose(self.v)) ** 2) - \\\n",
    "                                       S.dot(S.mul(X,X), T.transpose(self.v ** 2)), axis=1)\n",
    "            y_hat = T.addbroadcast(self.w0,0) + S.dot(X, self.w1) + interactions\n",
    "        else:\n",
    "            interactions = 0.5 * T.sum((T.dot(X, T.transpose(self.v)) ** 2) - \\\n",
    "                                       T.dot(X ** 2, T.transpose(self.v ** 2)), axis=1)\n",
    "            y_hat = T.addbroadcast(self.w0,0) + T.dot(X, self.w1) + interactions\n",
    "        if self.classifier:\n",
    "            y_hat = T.nnet.sigmoid(y_hat)\n",
    "\n",
    "        # *** Loss Function ***\n",
    "        if self.classifier:\n",
    "            error = T.mean(T.nnet.binary_crossentropy(y_hat, y))\n",
    "        else:\n",
    "            error = T.mean((y - y_hat)**2)\n",
    "        # regularization\n",
    "        L2 = beta_w1 * T.mean(self.w1 ** 2) + beta_v * T.mean(self.v ** 2)\n",
    "        loss = error + L2\n",
    "\n",
    "        # *** Learning ***\n",
    "        updates = []\n",
    "        params = [self.w0, self.w1, self.v]\n",
    "        grads = T.grad(cost=loss, wrt=params)\n",
    "        # RMSProp\n",
    "        lr, rho, epsilon = 0.001, 0.9, 1e-6\n",
    "        for p, g in zip(params, grads):\n",
    "            acc = theano.shared(p.get_value() * 0.)\n",
    "            acc_new = rho * acc + (1 - rho) * g ** 2\n",
    "            gradient_scaling = T.sqrt(acc_new + epsilon)\n",
    "            g = g / gradient_scaling\n",
    "            updates.append((acc, acc_new))\n",
    "            updates.append((p, p - lr * g))\n",
    "\n",
    "        self.theano_train = theano.function(\n",
    "            inputs=[X, y, beta_w1, beta_v], outputs=loss, updates=updates, allow_input_downcast=True)\n",
    "\n",
    "        self.theano_cost = theano.function(\n",
    "            inputs=[X, y, beta_w1, beta_v], outputs=loss, allow_input_downcast=True)\n",
    "\n",
    "        # *** Prediction ***\n",
    "        self.theano_predict = theano.function(\n",
    "            inputs=[X], outputs=y_hat, allow_input_downcast=True)\n",
    "\n",
    "\n",
    "    def get_weights(self):\n",
    "        \"\"\"Returns a _Weights namedtuple\"\"\"\n",
    "        return _Weights(*(w.get_value() for w in (self.w0, self.w1, self.v)))\n",
    "\n",
    "\n",
    "    def set_weights(self, weights):\n",
    "        \"\"\"Sets weights from a _Weights namedtuple\"\"\"\n",
    "        self.w0.set_value(weights.w0)\n",
    "        self.w1.set_value(weights.w1)\n",
    "        self.v.set_value(weights.v)\n",
    "\n",
    "\n",
    "    def fit(self, X, y,\n",
    "            batch_size=50,\n",
    "            nb_epoch=10,\n",
    "            shuffle=True,\n",
    "            verbose=False,\n",
    "            beta_w1=0.0,\n",
    "            beta_v=0.0):\n",
    "        \"\"\"Learns the weights of a factorization machine with mini-batch gradient\n",
    "        descent. The weights that minimize the loss function (across epochs) are\n",
    "        retained.\"\"\"\n",
    "        n = X.shape[0]\n",
    "        if batch_size > n:\n",
    "            batch_size = n\n",
    "        min_loss = float('inf')\n",
    "        min_loss_weights = self.get_weights()\n",
    "        for i in range(nb_epoch):\n",
    "            if shuffle:\n",
    "                indices = np.arange(n)\n",
    "                np.random.shuffle(indices)\n",
    "                X, y = X[indices], y[indices]\n",
    "            for start in itertools.count(0, batch_size):\n",
    "                if start >= n:\n",
    "                    break\n",
    "                stop = min(start + batch_size, n)\n",
    "                self.theano_train(X[start:stop], y[start:stop], beta_w1, beta_v)\n",
    "            current_loss = self.theano_cost(X, y, beta_w1, beta_v)\n",
    "            if current_loss < min_loss:\n",
    "                min_loss = current_loss\n",
    "                min_loss_weights = self.get_weights()\n",
    "            if verbose:\n",
    "                print('Epoch {}/{}'.format(i+1, nb_epoch))\n",
    "                print(' loss: {}, min_loss: {}'.format(current_loss, min_loss))\n",
    "        self.set_weights(min_loss_weights)\n",
    "\n",
    "\n",
    "    def save(self, path):\n",
    "        with open(path, 'wb') as f:\n",
    "            w0, w1, v = self.get_weights()\n",
    "            np.savez(\n",
    "                f, classifier=self.classifier, w0=w0, w1=w1, v=v)\n",
    "\n",
    "\n",
    "class FactorizationMachineClassifier(_FactorizationMachine, object):\n",
    "    \"\"\"A factorization machine classifier.\"\"\"\n",
    "    def __init__(self, *args, **kwargs):\n",
    "        kwargs['classifier'] = True\n",
    "        super(FactorizationMachineClassifier, self).__init__(*args, **kwargs)\n",
    "\n",
    "\n",
    "    def predict(self, X):\n",
    "        return (self.theano_predict(X) > 0.5).astype(np.int)\n",
    "\n",
    "\n",
    "    def predict_proba(self, X):\n",
    "        return self.theano_predict(X)\n",
    "\n",
    "\n",
    "class FactorizationMachineRegressor(_FactorizationMachine, object):\n",
    "    \"\"\"A factorization machine regressor.\"\"\"\n",
    "    def __init__(self, *args, **kwargs):\n",
    "        kwargs['classifier'] = False\n",
    "        super(FactorizationMachineRegressor, self).__init__(*args, **kwargs)\n",
    "\n",
    "\n",
    "    def predict(self, X):\n",
    "        return self.theano_predict(X)\n",
    "\n",
    "\n",
    "def load(path):\n",
    "    meta = np.load(path)\n",
    "    classifier = meta['classifier']\n",
    "    weights = _Weights(*[meta[key] for key in ['w0', 'w1', 'v']])\n",
    "    k, d = weights.v.shape\n",
    "    cls = FactorizationMachineClassifier if classifier else FactorizationMachineRegressor\n",
    "    model = cls(d, k=k)\n",
    "    model.set_weights(weights)\n",
    "    return model"
   ]
  },
  {
   "cell_type": "markdown",
   "metadata": {},
   "source": [
    "# Import Data & Simple Manipulate"
   ]
  },
  {
   "cell_type": "code",
   "execution_count": 3,
   "metadata": {},
   "outputs": [
    {
     "name": "stdout",
     "output_type": "stream",
     "text": [
      "time: 424 ms\n"
     ]
    }
   ],
   "source": [
    "from sklearn.datasets import fetch_20newsgroups\n",
    "twenty_train = fetch_20newsgroups(subset='train', \n",
    "                                  shuffle=True, \n",
    "                                  random_state=42)"
   ]
  },
  {
   "cell_type": "code",
   "execution_count": 4,
   "metadata": {},
   "outputs": [
    {
     "data": {
      "text/plain": [
       "0.25950150256319604"
      ]
     },
     "execution_count": 4,
     "metadata": {},
     "output_type": "execute_result"
    },
    {
     "name": "stdout",
     "output_type": "stream",
     "text": [
      "time: 610 ms\n"
     ]
    }
   ],
   "source": [
    "import pandas as pd\n",
    "def define_label(x, target_names):\n",
    "    name = target_names[x]\n",
    "    return 1 if 'comp' in name else 0\n",
    "    \n",
    "target = pd.Series(twenty_train.target).apply(lambda x : define_label(x,twenty_train.target_names))\n",
    "target.mean() # Prevalence of the label"
   ]
  },
  {
   "cell_type": "code",
   "execution_count": 5,
   "metadata": {},
   "outputs": [
    {
     "name": "stdout",
     "output_type": "stream",
     "text": [
      "time: 1.36 s\n"
     ]
    }
   ],
   "source": [
    "def clean_text(text):\n",
    "    # Basic cleaning\n",
    "    text=text.replace('\\n','').replace('\\t','').replace('<','').replace('>','').replace('|','')\n",
    "    return [x for x in text.split(' ') if len(x) > 3]\n",
    "\n",
    "X = [clean_text(x) for x in twenty_train.data]\n",
    "\n",
    "from sklearn.feature_extraction import FeatureHasher\n",
    "\n",
    "# Hash away!\n",
    "fh = FeatureHasher(input_type='string')\n",
    "X_t = fh.transform(X)\n",
    "\n",
    "# Bin the inputs so that the \"interaction\" terms are more interpretable\n",
    "X_bin = X_t.copy()\n",
    "X_bin[X_bin >= 1] = 1\n"
   ]
  },
  {
   "cell_type": "markdown",
   "metadata": {},
   "source": [
    "# Use Factorization Machine"
   ]
  },
  {
   "cell_type": "code",
   "execution_count": 6,
   "metadata": {},
   "outputs": [
    {
     "name": "stdout",
     "output_type": "stream",
     "text": [
      "Epoch 1/20\n",
      " loss: 0.5067896055493897, min_loss: 0.5067896055493897\n",
      "Epoch 2/20\n",
      " loss: 0.2992355629757832, min_loss: 0.2992355629757832\n",
      "Epoch 3/20\n",
      " loss: 0.19752477294309753, min_loss: 0.19752477294309753\n",
      "Epoch 4/20\n",
      " loss: 0.14242225502759606, min_loss: 0.14242225502759606\n",
      "Epoch 5/20\n",
      " loss: 0.10944646312404847, min_loss: 0.10944646312404847\n",
      "Epoch 6/20\n",
      " loss: 0.08814821934036131, min_loss: 0.08814821934036131\n",
      "Epoch 7/20\n",
      " loss: 0.0730615290179662, min_loss: 0.0730615290179662\n",
      "Epoch 8/20\n",
      " loss: 0.06192470337594915, min_loss: 0.06192470337594915\n",
      "Epoch 9/20\n",
      " loss: 0.05338422762278244, min_loss: 0.05338422762278244\n",
      "Epoch 10/20\n",
      " loss: 0.04665410144437181, min_loss: 0.04665410144437181\n",
      "Epoch 11/20\n",
      " loss: 0.04122573907945251, min_loss: 0.04122573907945251\n",
      "Epoch 12/20\n",
      " loss: 0.036764170292268084, min_loss: 0.036764170292268084\n",
      "Epoch 13/20\n",
      " loss: 0.033039440202278766, min_loss: 0.033039440202278766\n",
      "Epoch 14/20\n",
      " loss: 0.02988827423463166, min_loss: 0.02988827423463166\n",
      "Epoch 15/20\n",
      " loss: 0.027191960872583198, min_loss: 0.027191960872583198\n",
      "Epoch 16/20\n",
      " loss: 0.02486097711684094, min_loss: 0.02486097711684094\n",
      "Epoch 17/20\n",
      " loss: 0.022829676706742928, min_loss: 0.022829676706742928\n",
      "Epoch 18/20\n",
      " loss: 0.021043996953400156, min_loss: 0.021043996953400156\n",
      "Epoch 19/20\n",
      " loss: 0.019465312228964807, min_loss: 0.019465312228964807\n",
      "Epoch 20/20\n",
      " loss: 0.018061991973663025, min_loss: 0.018061991973663025\n",
      "time: 3min 9s\n"
     ]
    }
   ],
   "source": [
    "from sklearn.model_selection import train_test_split\n",
    "\n",
    "f = FactorizationMachineClassifier(X_t.shape[1], sparse=True)\n",
    "X_train, X_test, y_train, y_test = train_test_split(X_bin, target, test_size=0.33, random_state=42)\n",
    "\n",
    "f.fit(X_train, y_train, beta_w1=.01, beta_v=.01, nb_epoch=20, verbose=True, batch_size=250, shuffle=False)"
   ]
  },
  {
   "cell_type": "code",
   "execution_count": 7,
   "metadata": {},
   "outputs": [
    {
     "name": "stdout",
     "output_type": "stream",
     "text": [
      "              precision    recall  f1-score   support\n",
      "\n",
      "           0       0.88      0.94      0.91      2786\n",
      "           1       0.76      0.62      0.68       948\n",
      "\n",
      "    accuracy                           0.85      3734\n",
      "   macro avg       0.82      0.78      0.79      3734\n",
      "weighted avg       0.85      0.85      0.85      3734\n",
      "\n",
      "time: 114 ms\n"
     ]
    }
   ],
   "source": [
    "from sklearn.metrics import classification_report\n",
    "pred = f.predict(X_test)\n",
    "\n",
    "print(classification_report(y_test,pred))"
   ]
  },
  {
   "cell_type": "markdown",
   "metadata": {},
   "source": [
    "# Use SVD"
   ]
  },
  {
   "cell_type": "code",
   "execution_count": 8,
   "metadata": {},
   "outputs": [
    {
     "name": "stdout",
     "output_type": "stream",
     "text": [
      "time: 3.29 s\n"
     ]
    }
   ],
   "source": [
    "# LSA-based approach\n",
    "from sklearn.decomposition import TruncatedSVD\n",
    "from sklearn.feature_extraction.text import TfidfTransformer\n",
    "import numpy as np\n",
    "\n",
    "# Get the same training data for LSA\n",
    "X_train, X_test, y_train, y_test = train_test_split(X_t, target, test_size=0.33, random_state=42)\n",
    "\n",
    "tfidf = TfidfTransformer()\n",
    "X_lsa = tfidf.fit_transform(X_train)\n",
    "svd=TruncatedSVD(n_components=3)\n",
    "M = np.transpose(svd.fit_transform(np.transpose(X_lsa)))\n",
    "\n",
    "# V from Factorization Model\n",
    "V=f.v.get_value().copy()"
   ]
  },
  {
   "cell_type": "markdown",
   "metadata": {},
   "source": [
    "# Visualization"
   ]
  },
  {
   "cell_type": "code",
   "execution_count": 9,
   "metadata": {},
   "outputs": [
    {
     "data": {
      "image/png": "[encoded data removed]",
      "text/plain": [
       "<Figure size 864x864 with 2 Axes>"
      ]
     },
     "metadata": {
      "needs_background": "light"
     },
     "output_type": "display_data"
    },
    {
     "name": "stdout",
     "output_type": "stream",
     "text": [
      "time: 1.24 s\n"
     ]
    }
   ],
   "source": [
    "import matplotlib.pyplot as plt\n",
    "%matplotlib inline\n",
    "\n",
    "# Fit the model to the data to learn V\n",
    "from sklearn.feature_extraction import _hashing # The hashing function we used\n",
    "\n",
    "words = {}\n",
    "\n",
    "# Terms that might be found in sci/comp\n",
    "for word in ['keyboard', 'Microsoft', 'iMac','Apple',\n",
    "             'internet', 'Yahoo', 'modem','mouse']:\n",
    "    indx = fh.transform([[word]]).indices[0]\n",
    "    words[indx] = (word, 1)\n",
    "\n",
    "# Terms in the other groups, probably\n",
    "for word in ['Republican',\n",
    "             'Washington Post', 'Fox News',\n",
    "             'political','Democrat','democratic']:\n",
    "    indx = fh.transform([[word]]).indices[0]\n",
    "    words[indx] = (word, 0)\n",
    "\n",
    "def visualize_words_from_matrix(matrix, words, ax):\n",
    "    # Plot the word's locations colored by label\n",
    "    x = [matrix[1, k]  for k in words.keys()]\n",
    "    y = [matrix[2, k]  for k in words.keys()]\n",
    "    color = ['b' if x[1] else 'r' for x in words.values()]\n",
    "    ax.scatter(x,y, color = color)\n",
    "\n",
    "    # Add the words to the plot\n",
    "    for i, v in words.items():\n",
    "        word, target_class = v\n",
    "        ax.annotate(word, (matrix[1, i], matrix[2, i]))\n",
    "\n",
    "fig, ax = plt.subplots(2, figsize=(12,12))\n",
    "ax[0].set_title('LSA-Based')\n",
    "visualize_words_from_matrix(M, words, ax[0])\n",
    "ax[1].set_title('Factorization Machine-Based')\n",
    "visualize_words_from_matrix(V, words, ax[1])"
   ]
  }
 ],
 "metadata": {
  "kernelspec": {
   "display_name": "Python 3",
   "language": "python",
   "name": "python3"
  },
  "language_info": {
   "codemirror_mode": {
    "name": "ipython",
    "version": 3
   },
   "file_extension": ".py",
   "mimetype": "text/x-python",
   "name": "python",
   "nbconvert_exporter": "python",
   "pygments_lexer": "ipython3",
   "version": "3.6.8"
  },
  "toc": {
   "base_numbering": 1,
   "nav_menu": {},
   "number_sections": true,
   "sideBar": true,
   "skip_h1_title": false,
   "title_cell": "Table of Contents",
   "title_sidebar": "Contents",
   "toc_cell": false,
   "toc_position": {},
   "toc_section_display": true,
   "toc_window_display": true
  },
  "varInspector": {
   "cols": {
    "lenName": 16,
    "lenType": 16,
    "lenVar": 40
   },
   "kernels_config": {
    "python": {
     "delete_cmd_postfix": "",
     "delete_cmd_prefix": "del ",
     "library": "var_list.py",
     "varRefreshCmd": "print(var_dic_list())"
    },
    "r": {
     "delete_cmd_postfix": ") ",
     "delete_cmd_prefix": "rm(",
     "library": "var_list.r",
     "varRefreshCmd": "cat(var_dic_list()) "
    }
   },
   "types_to_exclude": [
    "module",
    "function",
    "builtin_function_or_method",
    "instance",
    "_Feature"
   ],
   "window_display": false
  }
 },
 "nbformat": 4,
 "nbformat_minor": 2
}
